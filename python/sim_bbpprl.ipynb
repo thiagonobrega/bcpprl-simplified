{
 "cells": [
  {
   "source": [
    "# Install libs"
   ],
   "cell_type": "markdown",
   "metadata": {}
  },
  {
   "cell_type": "code",
   "execution_count": 1,
   "metadata": {},
   "outputs": [],
   "source": [
    "#!pip install --user nbmultitask\n",
    "#!pip install pandas==1.2.5\n",
    "#!pip install tqdm==4.61.1"
   ]
  },
  {
   "source": [
    "# Imports"
   ],
   "cell_type": "markdown",
   "metadata": {}
  },
  {
   "cell_type": "code",
   "execution_count": 2,
   "metadata": {
    "init_cell": true
   },
   "outputs": [],
   "source": [
    "import sys\n",
    "import zipfile\n",
    "import os\n",
    "from random import sample \n",
    "\n",
    "\n",
    "import numpy as np\n",
    "import pandas as pd\n",
    "from IPython.display import display, HTML\n",
    "import seaborn as sns\n",
    "from matplotlib import ticker\n",
    "\n",
    "from lib.datasetutil import gerar_estatiscas_df, substituir_valores_nulos , verify_gg4cc , save_zip2\n",
    "\n",
    "\n",
    "import numpy as np\n",
    "import multiprocessing as mp\n",
    "import pandas as pd\n",
    "\n",
    "# from tqdm import tqdm\n",
    "# from tqdm.notebook import trange, tqdm\n",
    "from tqdm.notebook import tqdm\n",
    "\n",
    "from splitting_bf.evaluation import split_bf\n",
    "import multiprocessing as mp\n",
    "from lib.util.env import getbase_dir\n",
    "from encrypt import encryptData, encrypt_data_in_memory\n",
    "import resposta\n"
   ]
  },
  {
   "cell_type": "markdown",
   "metadata": {},
   "source": [
    "# Questão 1"
   ]
  },
  {
   "cell_type": "markdown",
   "metadata": {
    "heading_collapsed": true
   },
   "source": [
    "## Metodos"
   ]
  },
  {
   "cell_type": "code",
   "execution_count": 3,
   "metadata": {
    "hidden": true,
    "init_cell": true,
    "pycharm": {
     "name": "#%%\n"
    }
   },
   "outputs": [],
   "source": [
    "def read(zinput):\n",
    "    '''\n",
    "        Ler zip com os datasets\n",
    "    '''\n",
    "    zf = zipfile.ZipFile(zinput) \n",
    "\n",
    "    scol = [68,2,10,11,9,28,29,13,14,15,1,16]\n",
    "\n",
    "    df = pd.read_csv(zf.open(zipfile.ZipFile.namelist(zf)[0]),header=0,\n",
    "                encoding=\"iso-8859-1\",sep=\"\\t\",\n",
    "                usecols=scol,\n",
    "    #             chunksize=640000000,\n",
    "                error_bad_lines=False)#,\n",
    "#             nrows=15)\n",
    "    return df.iloc[:, [11,1,3,4,2,9,10,5,6,0,7,8,]]\n",
    "\n",
    "# df.iloc[:, [68,2,10,11,9,28,29,13,14,15,1,16]]"
   ]
  },
  {
   "cell_type": "markdown",
   "metadata": {
    "heading_collapsed": true
   },
   "source": [
    "## Leitura dos dados"
   ]
  },
  {
   "cell_type": "code",
   "execution_count": 4,
   "metadata": {
    "hidden": true,
    "init_cell": true
   },
   "outputs": [],
   "source": [
    "ds_files = 'D:\\Dados\\OneDrive\\Doutorado\\Datasets\\\\NCVR\\\\'\n",
    "fa = 'ncvoter_Statewide_18102016.zip'\n",
    "fb = 'ncvoter_Statewide_31052020.zip'"
   ]
  },
  {
   "cell_type": "code",
   "execution_count": 13,
   "metadata": {
    "hidden": true
   },
   "outputs": [],
   "source": [
    "#[1,2,3,4,5,6,7] ,96,cores=8\n",
    "a = read(ds_files + fa)"
   ]
  },
  {
   "cell_type": "code",
   "execution_count": null,
   "metadata": {
    "hidden": true
   },
   "outputs": [],
   "source": [
    "#[7,8,9,10,11,12,13],96,cores=8\n",
    "# b = read(ds_files + fb)"
   ]
  },
  {
   "cell_type": "code",
   "execution_count": null,
   "metadata": {
    "hidden": true
   },
   "outputs": [],
   "source": [
    "# del(b)"
   ]
  },
  {
   "cell_type": "markdown",
   "metadata": {},
   "source": [
    "## Simular"
   ]
  },
  {
   "cell_type": "markdown",
   "metadata": {},
   "source": [
    "Bootstrap"
   ]
  },
  {
   "cell_type": "code",
   "execution_count": 15,
   "metadata": {},
   "outputs": [
    {
     "data": {
      "application/vnd.jupyter.widget-view+json": {
       "model_id": "0becba25728a4474840c298324c3a5a8",
       "version_major": 2,
       "version_minor": 0
      },
      "text/plain": [
       "  0%|          | 0/6 [00:00<?, ?it/s]"
      ]
     },
     "metadata": {},
     "output_type": "display_data"
    },
    {
     "name": "stdout",
     "output_type": "stream",
     "text": [
      "Wall time: 1min 10s\n"
     ]
    }
   ],
   "source": [
    "%%time\n",
    "# 5 ~ 8\n",
    "# 6 ~ 16\n",
    "\n",
    "# nova execucao 7,11\n",
    "# for i in range(8,11):\n",
    "for i in tqdm(range(2,8),leave=True):\n",
    "    n_proc = 4\n",
    "    pool = mp.Pool(processes=n_proc)\n",
    "    results = [pool.apply_async(\n",
    "                                resposta.first_question,\n",
    "                                args=(s,[1,2,3,4,5,6,7],96),\n",
    "                                kwds={'sample_size': 0,\n",
    "                                      'n_splits':i,\n",
    "                                      'limite':4}\n",
    "                                ) for s in np.array_split(a.sample(10000), n_proc)\n",
    "#                                 ) for s in np.array_split(a.sample(1000000), n_proc)\n",
    "#                                 ) for s in np.array_split(a.sample(4000000), n_proc)\n",
    "              ]\n",
    "\n",
    "    output = [p.get() for p in results]\n",
    "    pool.close()\n",
    "\n",
    "    output = pd.concat(output).groupby(['split']).sum()\n",
    "    output['split'] = output.index\n",
    "    output['n_split'] = 2**i\n",
    "    output.to_csv('computacao_10k_'+str(i)+'.csv')"
   ]
  },
  {
   "cell_type": "markdown",
   "metadata": {
    "heading_collapsed": true
   },
   "source": [
    "## Gerar os Graficos"
   ]
  },
  {
   "cell_type": "code",
   "execution_count": 5,
   "metadata": {
    "hidden": true
   },
   "outputs": [
    {
     "data": {
      "application/vnd.jupyter.widget-view+json": {
       "model_id": "",
       "version_major": 2,
       "version_minor": 0
      },
      "text/plain": [
       "  0%|          | 0/3 [00:00<?, ?it/s]"
      ]
     },
     "metadata": {},
     "output_type": "display_data"
    },
    {
     "data": {
      "application/vnd.jupyter.widget-view+json": {
       "model_id": "",
       "version_major": 2,
       "version_minor": 0
      },
      "text/plain": [
       "  0%|          | 0/6 [00:00<?, ?it/s]"
      ]
     },
     "metadata": {},
     "output_type": "display_data"
    },
    {
     "data": {
      "application/vnd.jupyter.widget-view+json": {
       "model_id": "",
       "version_major": 2,
       "version_minor": 0
      },
      "text/plain": [
       "  0%|          | 0/6 [00:00<?, ?it/s]"
      ]
     },
     "metadata": {},
     "output_type": "display_data"
    },
    {
     "data": {
      "application/vnd.jupyter.widget-view+json": {
       "model_id": "",
       "version_major": 2,
       "version_minor": 0
      },
      "text/plain": [
       "  0%|          | 0/6 [00:00<?, ?it/s]"
      ]
     },
     "metadata": {},
     "output_type": "display_data"
    }
   ],
   "source": [
    "output = []\n",
    "sample_s = {'10k' : 10000, '100k' : 100000, '1mi' : 1000000}\n",
    "for l in tqdm(['10k','100k','1mi'],leave=False):\n",
    "    for i in tqdm(range(2,8),leave=False):\n",
    "        j = pd.read_csv('computacao_'+str(l)+'_'+str(i)+'.csv')\n",
    "        j['sample_size'] = sample_s[l]\n",
    "        if len(output) == 0:\n",
    "            output = j\n",
    "        else:\n",
    "            output = pd.concat([output,j])"
   ]
  },
  {
   "cell_type": "code",
   "execution_count": 6,
   "metadata": {
    "hidden": true
   },
   "outputs": [],
   "source": [
    "output['bits'] = 1024/output['n_split']\n",
    "output['n_split'] = output['n_split'].astype(int)\n",
    "output['punique'] = output['unique']/output['sample_size']\n",
    "# output"
   ]
  },
  {
   "cell_type": "code",
   "execution_count": 8,
   "metadata": {
    "hidden": true
   },
   "outputs": [
    {
     "data": {
      "text/plain": [
       "<matplotlib.legend.Legend at 0x2ce2b894940>"
      ]
     },
     "execution_count": 8,
     "metadata": {},
     "output_type": "execute_result"
    },
    {
     "data": {
      "image/png": "[encoded data removed]",
      "text/plain": [
       "<Figure size 432x288 with 1 Axes>"
      ]
     },
     "metadata": {},
     "output_type": "display_data"
    }
   ],
   "source": [
    "z=output[output['sample_size'] >= 10000]\n",
    "sns.set_style(\"whitegrid\")\n",
    "g = sns.barplot(data=z[z.bits <= 64], x=\"split\",y='punique',hue='bits',palette='Blues')\n",
    "g.set_title('Unique BF per iteration')\n",
    "g.set_xlabel('iterations')\n",
    "g.set_ylabel('percentage of unique values')\n",
    "g.legend(loc='upper center', bbox_to_anchor=(.5, -.15),\n",
    "                      title= 'Split length in bits',\n",
    "                      fancybox=True, frameon=False , ncol=4)"
   ]
  },
  {
   "cell_type": "markdown",
   "metadata": {},
   "source": [
    "# Questao 2"
   ]
  },
  {
   "cell_type": "markdown",
   "metadata": {},
   "source": [
    "Ola"
   ]
  },
  {
   "cell_type": "markdown",
   "metadata": {},
   "source": [
    "## metodos"
   ]
  },
  {
   "cell_type": "code",
   "execution_count": null,
   "metadata": {},
   "outputs": [],
   "source": [
    "def verificar_distancias(bdf,split_number=16,limiar = 0.7,alfa = 0.1):\n",
    "#     bdf = df[df.bf == 'bbf']\n",
    "    \n",
    "    beta = limiar - alfa\n",
    "    distancia = 0\n",
    "\n",
    "    saida = []\n",
    "    #\n",
    "    for a in bdf['id_a'].unique():\n",
    "\n",
    "        distanciais_locais = []\n",
    "        \n",
    "        for row in bdf[bdf.id_a == a].iterrows():\n",
    "            #procura a disntancia de a\n",
    "            for i in range(4,split_number+4):\n",
    "                #ta errado se tiver uma no meio tem que parar\n",
    "                if row[1][i] >= beta:\n",
    "                    distancia = i - 3\n",
    "                else:\n",
    "                    #nao repassa a split\n",
    "                    break\n",
    "\n",
    "                distanciais_locais.append(distancia)\n",
    "\n",
    "        if len(distanciais_locais) == 0:\n",
    "            dist = 1\n",
    "        else:\n",
    "            dist = max(distanciais_locais)\n",
    "            \n",
    "        saida.append({'id_a' : a, 'distancia' : dist})\n",
    "\n",
    "    return pd.DataFrame(saida)"
   ]
  },
  {
   "cell_type": "code",
   "execution_count": null,
   "metadata": {},
   "outputs": [],
   "source": [
    "from resposta import local_encrypt\n",
    "from lib.mybloom.bloomutil import jaccard_coefficient\n",
    "\n",
    "def comparar_second_question_rt(df1,df2,atts,bfsize,n_splits=6,limiar = 0.7,alfa = 0.1):\n",
    "    edf1=local_encrypt(df1,atts,bfsize,sample_size=0)\n",
    "    edf2=local_encrypt(df2,atts,bfsize,sample_size=0)\n",
    "    \n",
    "    beta = limiar - alfa\n",
    "    distancia = 0\n",
    "\n",
    "    saida = []\n",
    "    \n",
    "    for e1 in tqdm(edf1,leave=False):\n",
    "        \n",
    "        id1 = e1[0]\n",
    "        bf1 = e1[1]\n",
    "        \n",
    "        distanciais_locais = []\n",
    "        for e2 in tqdm(edf2,leave=False):\n",
    "            id2 = e2[0]\n",
    "            bf2 = e2[1]\n",
    "            \n",
    "            #BBF parts\n",
    "            bbf1_parts = split_bf(bf1,n_splits)\n",
    "            bbf2_parts = split_bf(bf2,n_splits)\n",
    "            \n",
    "            #######\n",
    "            ## processando\n",
    "            #######\n",
    "            for i in range(0,len(bbf1_parts)):\n",
    "\n",
    "#                 jaccard_coefficient(ibf1_parts[i], ibf2_parts[i])\n",
    "#                 jaccard_coefficient(xbf1_parts[i], xbf2_parts[i])\n",
    "                if jaccard_coefficient(bbf1_parts[i], bbf2_parts[i]) >= beta:\n",
    "                    distancia = i+1\n",
    "                else:\n",
    "                    #nao repassa a split\n",
    "                    break\n",
    "\n",
    "                distanciais_locais.append(distancia)\n",
    "             #############################################\n",
    "        \n",
    "        #fim do for 2\n",
    "        if len(distanciais_locais) == 0:\n",
    "            dist = 1\n",
    "        else:\n",
    "            dist = max(distanciais_locais)\n",
    "            \n",
    "        saida.append({'id_a' : id1, 'distancia' : dist})\n",
    "                \n",
    "    return pd.DataFrame(saida)"
   ]
  },
  {
   "cell_type": "markdown",
   "metadata": {},
   "source": [
    "## ler os dados"
   ]
  },
  {
   "cell_type": "code",
   "execution_count": 30,
   "metadata": {},
   "outputs": [],
   "source": [
    "ds_files = '..\\..\\..\\..\\Datasets\\\\NCVR\\\\'\n",
    "fa = 'ncvoters_5000_0.1.zip'\n",
    "\n",
    "zinput = ds_files + fa\n",
    "\n",
    "#ler os dados para comparacao\n",
    "\n",
    "zf = zipfile.ZipFile(zinput)\n",
    "\n",
    "df = pd.read_csv(zf.open(zipfile.ZipFile.namelist(zf)[0]),header=0,\n",
    "                 encoding=\"iso-8859-1\",sep=\";\",\n",
    "#                 usecols=scol,\n",
    "    #             chunksize=640000000,\n",
    "                error_bad_lines=False)#,\n",
    "a = df.iloc[:, [0,3,4,2,5,6,7,8]]\n",
    "\n",
    "df = pd.read_csv(zf.open(zipfile.ZipFile.namelist(zf)[1]),header=0,\n",
    "                 encoding=\"iso-8859-1\",sep=\";\",\n",
    "#                 usecols=scol,\n",
    "    #             chunksize=640000000,\n",
    "                error_bad_lines=False)#,\n",
    "b = df.iloc[:, [0,3,4,2,5,6,7,8]]"
   ]
  },
  {
   "cell_type": "code",
   "execution_count": 31,
   "metadata": {},
   "outputs": [
    {
     "data": {
      "text/plain": [
       "1660"
      ]
     },
     "execution_count": 31,
     "metadata": {},
     "output_type": "execute_result"
    }
   ],
   "source": [
    "# blocando\n",
    "ba = a.copy()\n",
    "bb = b.copy()\n",
    "\n",
    "# aumentar\n",
    "ba['bk'] = ba.first_name.str[:2]\n",
    "bb['bk'] = bb.first_name.str[:2]\n",
    "\n",
    "\n",
    "comps = pd.merge(ba, bb, on=[\"bk\"])[['ncid_x','ncid_y']]\n",
    "comps.columns = ['a','b']\n",
    "\n",
    "len(comps.a.unique())"
   ]
  },
  {
   "cell_type": "markdown",
   "metadata": {},
   "source": [
    "calcular similaridades"
   ]
  },
  {
   "cell_type": "code",
   "execution_count": 32,
   "metadata": {},
   "outputs": [],
   "source": [
    "from resposta import local_encrypt\n",
    "from splitting_bf.evaluation import split_bf\n",
    "from lib.mybloom.bloomutil import jaccard_coefficient\n",
    "from statistics import mean\n",
    "\n",
    "\n",
    "def comparar_second_question_rt_blk(df1,df2,comps,excluidos_a,atts,bfsize,n_splits=6,limiar = 0.7,alfa = 0.1):\n",
    "    edf1=local_encrypt(df1,atts,bfsize,sample_size=0)\n",
    "    edf2=local_encrypt(df2,atts,bfsize,sample_size=0)\n",
    "    \n",
    "    beta = limiar - alfa\n",
    "    distancia = 0\n",
    "\n",
    "    saida = []\n",
    "    \n",
    "    \n",
    "#     for e1 in edf1:\n",
    "    for e1 in tqdm(edf1,leave=False):\n",
    "        id1 = e1[0]\n",
    "        bf1 = e1[1]\n",
    "        \n",
    "        distanciais_locais = []\n",
    "        \n",
    "        try:\n",
    "            excluidos_a[id1]\n",
    "            distanciais_locais.append(-1)\n",
    "        except KeyError:\n",
    "        \n",
    "            for e2 in edf2:\n",
    "                id2 = e2[0]\n",
    "                bf2 = e2[1]\n",
    "\n",
    "                flag = False\n",
    "                try:\n",
    "                    pass\n",
    "                    # flag = comps[(comps.a == id1) & (comps.b == id2)]\n",
    "                    c[str(id1)+str(id2)]\n",
    "                    flag = True\n",
    "                except KeyError:\n",
    "                    flag = False\n",
    "\n",
    "\n",
    "                if flag == True:\n",
    "                    #BBF parts\n",
    "                    bbf1_parts = split_bf(bf1,n_splits)\n",
    "                    bbf2_parts = split_bf(bf2,n_splits)\n",
    "\n",
    "                    #######\n",
    "                    ## processando\n",
    "                    #######\n",
    "                    \n",
    "                    llimiar = [limiar]\n",
    "                    for i in range(0,len(bbf1_parts)):\n",
    "                        beta = mean(llimiar) - alfa\n",
    "\n",
    "                        parts = jaccard_coefficient(bbf1_parts[i], bbf2_parts[i])\n",
    "        #                 jaccard_coefficient(ibf1_parts[i], ibf2_parts[i])\n",
    "        #                 jaccard_coefficient(xbf1_parts[i], xbf2_parts[i])\n",
    "\n",
    "                        if parts >= beta:\n",
    "                            llimiar.append(parts)\n",
    "                            distancia = i + 1\n",
    "                        else:\n",
    "                            #nao repassa a split\n",
    "                            break\n",
    "\n",
    "                        distanciais_locais.append(distancia)\n",
    "                     #############################################\n",
    "        \n",
    "        \n",
    "        #fim do for 2\n",
    "        if len(distanciais_locais) == 0:\n",
    "            dist = 1\n",
    "        else:\n",
    "            dist = max(distanciais_locais)\n",
    "            \n",
    "        saida.append({'id_a' : id1, 'distancia' : dist})\n",
    "                \n",
    "    return pd.DataFrame(saida)"
   ]
  },
  {
   "cell_type": "code",
   "execution_count": 33,
   "metadata": {},
   "outputs": [],
   "source": [
    "# c = {}\n",
    "# for index, row in comps.iterrows():\n",
    "#     c[str(row[0])+str(row[1])] = 1"
   ]
  },
  {
   "cell_type": "code",
   "execution_count": 35,
   "metadata": {},
   "outputs": [],
   "source": [
    "excluidos_a = dict.fromkeys(set(a.ncid) - set(comps.a.unique()), 1)\n",
    "bb = b[~b.ncid.isin( list(set(b.ncid) - set(comps.b.unique())) ) ]"
   ]
  },
  {
   "cell_type": "code",
   "execution_count": 36,
   "metadata": {},
   "outputs": [
    {
     "data": {
      "text/plain": [
       "170"
      ]
     },
     "execution_count": 36,
     "metadata": {},
     "output_type": "execute_result"
    }
   ],
   "source": [
    "len(set(a.ncid.unique()).intersection(set(b.ncid.unique())))"
   ]
  },
  {
   "cell_type": "markdown",
   "metadata": {},
   "source": [
    "### Simular"
   ]
  },
  {
   "cell_type": "code",
   "execution_count": 131,
   "metadata": {},
   "outputs": [
    {
     "data": {
      "application/vnd.jupyter.widget-view+json": {
       "model_id": "",
       "version_major": 2,
       "version_minor": 0
      },
      "text/plain": [
       "HBox(children=(FloatProgress(value=0.0, max=1699.0), HTML(value='')))"
      ]
     },
     "metadata": {},
     "output_type": "display_data"
    }
   ],
   "source": [
    "# simular e executar\n",
    "zd = comparar_second_question_rt_blk(a,bb,c,excluidos_a,[2,3,4,5,6,7],96,n_splits=5,limiar = 0.7,alfa = 0.3)"
   ]
  },
  {
   "cell_type": "markdown",
   "metadata": {},
   "source": [
    "### Gerar graficos"
   ]
  },
  {
   "cell_type": "code",
   "execution_count": 147,
   "metadata": {},
   "outputs": [],
   "source": [
    "z = zd.copy()\n",
    "z['label'] = 'filtered with less 25%'\n",
    "z.loc[z.distancia == -1, 'label'] = 'filtered by blocking'\n",
    "z.loc[z.distancia >= 9, 'label'] = 'forwarded with more than 25%'\n",
    "z.distancia=z.distancia.replace({-1: 1})"
   ]
  },
  {
   "cell_type": "code",
   "execution_count": 148,
   "metadata": {},
   "outputs": [
    {
     "data": {
      "text/plain": [
       "Text(0.5, 0, 'iterations')"
      ]
     },
     "execution_count": 148,
     "metadata": {},
     "output_type": "execute_result"
    },
    {
     "data": {
      "image/png": "[encoded data removed]",
      "text/plain": [
       "<Figure size 432x288 with 1 Axes>"
      ]
     },
     "metadata": {},
     "output_type": "display_data"
    }
   ],
   "source": [
    "sns.set_style(\"whitegrid\")\n",
    "g = sns.histplot(z[z.distancia > 0],x='distancia',stat='density',bins=33,hue='label',\n",
    "                 palette='Dark2',\n",
    "                 alpha=1.0\n",
    "                )\n",
    "g.set_title('Filtered BF per iteration')\n",
    "g.set_xlabel('iterations')"
   ]
  }
 ],
 "metadata": {
  "kernelspec": {
   "display_name": "Python 3",
   "language": "python",
   "name": "python3"
  },
  "language_info": {
   "codemirror_mode": {
    "name": "ipython",
    "version": 3
   },
   "file_extension": ".py",
   "mimetype": "text/x-python",
   "name": "python",
   "nbconvert_exporter": "python",
   "pygments_lexer": "ipython3",
   "version": "3.7.3"
  },
  "latex_envs": {
   "LaTeX_envs_menu_present": true,
   "autoclose": false,
   "autocomplete": true,
   "bibliofile": "biblio.bib",
   "cite_by": "apalike",
   "current_citInitial": 1,
   "eqLabelWithNumbers": true,
   "eqNumInitial": 1,
   "hotkeys": {
    "equation": "Ctrl-E",
    "itemize": "Ctrl-I"
   },
   "labels_anchors": false,
   "latex_user_defs": false,
   "report_style_numbering": false,
   "user_envs_cfg": false
  },
  "toc": {
   "base_numbering": 1,
   "nav_menu": {},
   "number_sections": true,
   "sideBar": true,
   "skip_h1_title": false,
   "title_cell": "Table of Contents",
   "title_sidebar": "Contents",
   "toc_cell": false,
   "toc_position": {},
   "toc_section_display": true,
   "toc_window_display": false
  }
 },
 "nbformat": 4,
 "nbformat_minor": 1
}